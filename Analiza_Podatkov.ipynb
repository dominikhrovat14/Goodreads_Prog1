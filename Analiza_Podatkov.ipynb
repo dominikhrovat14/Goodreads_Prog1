{
 "cells": [
  {
   "cell_type": "markdown",
   "id": "narrow-shaft",
   "metadata": {},
   "source": [
    "# Analiza Podatkov"
   ]
  },
  {
   "cell_type": "markdown",
   "id": "intellectual-neighbor",
   "metadata": {},
   "source": [
    "## Uvod"
   ]
  },
  {
   "cell_type": "markdown",
   "id": "divided-sheffield",
   "metadata": {},
   "source": [
    "Najprej s pomočjo knjižnice pandas predstavimo vse potrebne csv datoteke. **about.csv** vsebuje tehnične podatke najboljših 500 knjig, iz datoteke **genre.csv** pa bomo lahko prebrali kateri žanri knjig so najpopularnejši. Datoteka **glavno.csv** vsebuje glavne podatke o knjigah."
   ]
  },
  {
   "cell_type": "code",
   "execution_count": 31,
   "id": "frozen-vault",
   "metadata": {
    "scrolled": true
   },
   "outputs": [],
   "source": [
    "import pandas as pd\n",
    "%matplotlib inline\n",
    "knjige = pd.read_csv('C:/Users/domin/Desktop/PN prog1/obdelani-podatki/knj.csv')\n",
    "\n",
    "genre = pd.read_csv('C:/Users/domin/Desktop/PN prog1/obdelani-podatki/genre.csv')\n",
    "\n",
    "\n",
    "splosno = pd.read_csv('C:/Users/domin/Desktop/PN prog1/obdelani-podatki/about.csv')"
   ]
  },
  {
   "cell_type": "markdown",
   "id": "comparable-saskatchewan",
   "metadata": {},
   "source": [
    "# Predstavimo posamezne tabele\n",
    "Za boljšo preglednost bomo najprej predstavili vse tabele, ki jih bomo uporabljali pri analizi podatkov."
   ]
  },
  {
   "cell_type": "code",
   "execution_count": 32,
   "id": "danish-technical",
   "metadata": {
    "scrolled": true
   },
   "outputs": [
    {
     "data": {
      "text/html": [
       "<div>\n",
       "<style scoped>\n",
       "    .dataframe tbody tr th:only-of-type {\n",
       "        vertical-align: middle;\n",
       "    }\n",
       "\n",
       "    .dataframe tbody tr th {\n",
       "        vertical-align: top;\n",
       "    }\n",
       "\n",
       "    .dataframe thead th {\n",
       "        text-align: right;\n",
       "    }\n",
       "</style>\n",
       "<table border=\"1\" class=\"dataframe\">\n",
       "  <thead>\n",
       "    <tr style=\"text-align: right;\">\n",
       "      <th></th>\n",
       "      <th>naslov</th>\n",
       "      <th>autorID</th>\n",
       "      <th>autor</th>\n",
       "      <th>ocena</th>\n",
       "      <th>glasovi</th>\n",
       "    </tr>\n",
       "  </thead>\n",
       "  <tbody>\n",
       "    <tr>\n",
       "      <th>0</th>\n",
       "      <td>The Hunger Games</td>\n",
       "      <td>153394</td>\n",
       "      <td>Suzanne Collins</td>\n",
       "      <td>4.33</td>\n",
       "      <td>6,393,487</td>\n",
       "    </tr>\n",
       "    <tr>\n",
       "      <th>1</th>\n",
       "      <td>Harry Potter and the Order of the Phoenix</td>\n",
       "      <td>1077326</td>\n",
       "      <td>J.K. Rowling</td>\n",
       "      <td>4.50</td>\n",
       "      <td>2,516,497</td>\n",
       "    </tr>\n",
       "    <tr>\n",
       "      <th>2</th>\n",
       "      <td>To Kill a Mockingbird</td>\n",
       "      <td>1825</td>\n",
       "      <td>Harper Lee</td>\n",
       "      <td>4.28</td>\n",
       "      <td>4,514,533</td>\n",
       "    </tr>\n",
       "    <tr>\n",
       "      <th>3</th>\n",
       "      <td>Pride and Prejudice</td>\n",
       "      <td>1265</td>\n",
       "      <td>Jane Austen</td>\n",
       "      <td>4.26</td>\n",
       "      <td>3,008,275</td>\n",
       "    </tr>\n",
       "    <tr>\n",
       "      <th>4</th>\n",
       "      <td>Twilight</td>\n",
       "      <td>941441</td>\n",
       "      <td>Stephenie Meyer</td>\n",
       "      <td>3.60</td>\n",
       "      <td>4,977,934</td>\n",
       "    </tr>\n",
       "    <tr>\n",
       "      <th>...</th>\n",
       "      <td>...</td>\n",
       "      <td>...</td>\n",
       "      <td>...</td>\n",
       "      <td>...</td>\n",
       "      <td>...</td>\n",
       "    </tr>\n",
       "    <tr>\n",
       "      <th>9911</th>\n",
       "      <td>Bonus Keefe Story</td>\n",
       "      <td>5265998</td>\n",
       "      <td>Shannon Messenger</td>\n",
       "      <td>4.62</td>\n",
       "      <td>991</td>\n",
       "    </tr>\n",
       "    <tr>\n",
       "      <th>9912</th>\n",
       "      <td>Tales from a Not-So-Graceful Ice Princess (Dor...</td>\n",
       "      <td>2766469</td>\n",
       "      <td>Rachel Renée Russell</td>\n",
       "      <td>4.35</td>\n",
       "      <td>22,820</td>\n",
       "    </tr>\n",
       "    <tr>\n",
       "      <th>9913</th>\n",
       "      <td>O Jerusalem (Mary Russell and Sherlock Holmes,...</td>\n",
       "      <td>6760</td>\n",
       "      <td>Laurie R. King</td>\n",
       "      <td>4.14</td>\n",
       "      <td>16,615</td>\n",
       "    </tr>\n",
       "    <tr>\n",
       "      <th>9914</th>\n",
       "      <td>Broken April</td>\n",
       "      <td>10838</td>\n",
       "      <td>Ismail Kadare</td>\n",
       "      <td>4.01</td>\n",
       "      <td>4,031</td>\n",
       "    </tr>\n",
       "    <tr>\n",
       "      <th>9915</th>\n",
       "      <td>Not the End of the World</td>\n",
       "      <td>10015</td>\n",
       "      <td>Kate Atkinson</td>\n",
       "      <td>3.75</td>\n",
       "      <td>4,535</td>\n",
       "    </tr>\n",
       "  </tbody>\n",
       "</table>\n",
       "<p>9916 rows × 5 columns</p>\n",
       "</div>"
      ],
      "text/plain": [
       "                                                 naslov  autorID  \\\n",
       "0                                      The Hunger Games   153394   \n",
       "1             Harry Potter and the Order of the Phoenix  1077326   \n",
       "2                                 To Kill a Mockingbird     1825   \n",
       "3                                   Pride and Prejudice     1265   \n",
       "4                                              Twilight   941441   \n",
       "...                                                 ...      ...   \n",
       "9911                                  Bonus Keefe Story  5265998   \n",
       "9912  Tales from a Not-So-Graceful Ice Princess (Dor...  2766469   \n",
       "9913  O Jerusalem (Mary Russell and Sherlock Holmes,...     6760   \n",
       "9914                                       Broken April    10838   \n",
       "9915                           Not the End of the World    10015   \n",
       "\n",
       "                     autor  ocena    glasovi  \n",
       "0          Suzanne Collins   4.33  6,393,487  \n",
       "1             J.K. Rowling   4.50  2,516,497  \n",
       "2               Harper Lee   4.28  4,514,533  \n",
       "3              Jane Austen   4.26  3,008,275  \n",
       "4          Stephenie Meyer   3.60  4,977,934  \n",
       "...                    ...    ...        ...  \n",
       "9911     Shannon Messenger   4.62        991  \n",
       "9912  Rachel Renée Russell   4.35     22,820  \n",
       "9913        Laurie R. King   4.14     16,615  \n",
       "9914         Ismail Kadare   4.01      4,031  \n",
       "9915         Kate Atkinson   3.75      4,535  \n",
       "\n",
       "[9916 rows x 5 columns]"
      ]
     },
     "execution_count": 32,
     "metadata": {},
     "output_type": "execute_result"
    }
   ],
   "source": [
    "knjige"
   ]
  },
  {
   "cell_type": "markdown",
   "id": "still-fifteen",
   "metadata": {},
   "source": [
    "genre"
   ]
  },
  {
   "cell_type": "code",
   "execution_count": 33,
   "id": "individual-aerospace",
   "metadata": {},
   "outputs": [
    {
     "data": {
      "text/html": [
       "<div>\n",
       "<style scoped>\n",
       "    .dataframe tbody tr th:only-of-type {\n",
       "        vertical-align: middle;\n",
       "    }\n",
       "\n",
       "    .dataframe tbody tr th {\n",
       "        vertical-align: top;\n",
       "    }\n",
       "\n",
       "    .dataframe thead th {\n",
       "        text-align: right;\n",
       "    }\n",
       "</style>\n",
       "<table border=\"1\" class=\"dataframe\">\n",
       "  <thead>\n",
       "    <tr style=\"text-align: right;\">\n",
       "      <th></th>\n",
       "      <th>genre</th>\n",
       "      <th>genre_glasovi</th>\n",
       "    </tr>\n",
       "  </thead>\n",
       "  <tbody>\n",
       "    <tr>\n",
       "      <th>0</th>\n",
       "      <td>Young Adult</td>\n",
       "      <td>30,731</td>\n",
       "    </tr>\n",
       "    <tr>\n",
       "      <th>1</th>\n",
       "      <td>Fiction</td>\n",
       "      <td>17,227</td>\n",
       "    </tr>\n",
       "    <tr>\n",
       "      <th>2</th>\n",
       "      <td>Fantasy</td>\n",
       "      <td>13,448</td>\n",
       "    </tr>\n",
       "    <tr>\n",
       "      <th>3</th>\n",
       "      <td>Science Fiction</td>\n",
       "      <td>10,550</td>\n",
       "    </tr>\n",
       "    <tr>\n",
       "      <th>4</th>\n",
       "      <td>Romance</td>\n",
       "      <td>3,907</td>\n",
       "    </tr>\n",
       "    <tr>\n",
       "      <th>...</th>\n",
       "      <td>...</td>\n",
       "      <td>...</td>\n",
       "    </tr>\n",
       "    <tr>\n",
       "      <th>653</th>\n",
       "      <td>Contemporary</td>\n",
       "      <td>368</td>\n",
       "    </tr>\n",
       "    <tr>\n",
       "      <th>654</th>\n",
       "      <td>Literature</td>\n",
       "      <td>353</td>\n",
       "    </tr>\n",
       "    <tr>\n",
       "      <th>655</th>\n",
       "      <td>Literary Fiction</td>\n",
       "      <td>284</td>\n",
       "    </tr>\n",
       "    <tr>\n",
       "      <th>656</th>\n",
       "      <td>Novels</td>\n",
       "      <td>280</td>\n",
       "    </tr>\n",
       "    <tr>\n",
       "      <th>657</th>\n",
       "      <td>Adult Fiction</td>\n",
       "      <td>188</td>\n",
       "    </tr>\n",
       "  </tbody>\n",
       "</table>\n",
       "<p>658 rows × 2 columns</p>\n",
       "</div>"
      ],
      "text/plain": [
       "                genre genre_glasovi\n",
       "0         Young Adult        30,731\n",
       "1             Fiction        17,227\n",
       "2             Fantasy        13,448\n",
       "3     Science Fiction        10,550\n",
       "4             Romance         3,907\n",
       "..                ...           ...\n",
       "653      Contemporary           368\n",
       "654        Literature           353\n",
       "655  Literary Fiction           284\n",
       "656            Novels           280\n",
       "657     Adult Fiction           188\n",
       "\n",
       "[658 rows x 2 columns]"
      ]
     },
     "execution_count": 33,
     "metadata": {},
     "output_type": "execute_result"
    }
   ],
   "source": [
    "genre"
   ]
  },
  {
   "cell_type": "code",
   "execution_count": 34,
   "id": "homeless-pilot",
   "metadata": {},
   "outputs": [
    {
     "data": {
      "text/html": [
       "<div>\n",
       "<style scoped>\n",
       "    .dataframe tbody tr th:only-of-type {\n",
       "        vertical-align: middle;\n",
       "    }\n",
       "\n",
       "    .dataframe tbody tr th {\n",
       "        vertical-align: top;\n",
       "    }\n",
       "\n",
       "    .dataframe thead th {\n",
       "        text-align: right;\n",
       "    }\n",
       "</style>\n",
       "<table border=\"1\" class=\"dataframe\">\n",
       "  <thead>\n",
       "    <tr style=\"text-align: right;\">\n",
       "      <th></th>\n",
       "      <th>naslov</th>\n",
       "      <th>izdano</th>\n",
       "      <th>dolzina</th>\n",
       "      <th>jezik</th>\n",
       "    </tr>\n",
       "  </thead>\n",
       "  <tbody>\n",
       "    <tr>\n",
       "      <th>0</th>\n",
       "      <td>The Hunger Games</td>\n",
       "      <td>2008</td>\n",
       "      <td>374</td>\n",
       "      <td>English</td>\n",
       "    </tr>\n",
       "    <tr>\n",
       "      <th>1</th>\n",
       "      <td>Harry Potter and the Order of the Phoenix</td>\n",
       "      <td>2004</td>\n",
       "      <td>870</td>\n",
       "      <td>English</td>\n",
       "    </tr>\n",
       "    <tr>\n",
       "      <th>2</th>\n",
       "      <td>To Kill a Mockingbird</td>\n",
       "      <td>2006</td>\n",
       "      <td>324</td>\n",
       "      <td>English</td>\n",
       "    </tr>\n",
       "    <tr>\n",
       "      <th>3</th>\n",
       "      <td>Pride and Prejudice</td>\n",
       "      <td>2000</td>\n",
       "      <td>279</td>\n",
       "      <td>English</td>\n",
       "    </tr>\n",
       "    <tr>\n",
       "      <th>4</th>\n",
       "      <td>Twilight</td>\n",
       "      <td>2006</td>\n",
       "      <td>501</td>\n",
       "      <td>English</td>\n",
       "    </tr>\n",
       "    <tr>\n",
       "      <th>...</th>\n",
       "      <td>...</td>\n",
       "      <td>...</td>\n",
       "      <td>...</td>\n",
       "      <td>...</td>\n",
       "    </tr>\n",
       "    <tr>\n",
       "      <th>481</th>\n",
       "      <td>Demian: Die Geschichte von Emil Sinclairs Jugend</td>\n",
       "      <td>1996</td>\n",
       "      <td>194</td>\n",
       "      <td>German</td>\n",
       "    </tr>\n",
       "    <tr>\n",
       "      <th>482</th>\n",
       "      <td>Aristotle and Dante Discover the Secrets of th...</td>\n",
       "      <td>2012</td>\n",
       "      <td>359</td>\n",
       "      <td>English</td>\n",
       "    </tr>\n",
       "    <tr>\n",
       "      <th>483</th>\n",
       "      <td>The 5th Wave</td>\n",
       "      <td>2013</td>\n",
       "      <td>457</td>\n",
       "      <td>English</td>\n",
       "    </tr>\n",
       "    <tr>\n",
       "      <th>484</th>\n",
       "      <td>The Iron King</td>\n",
       "      <td>2010</td>\n",
       "      <td>363</td>\n",
       "      <td>English</td>\n",
       "    </tr>\n",
       "    <tr>\n",
       "      <th>485</th>\n",
       "      <td>Bloodlines</td>\n",
       "      <td>2011</td>\n",
       "      <td>421</td>\n",
       "      <td>English</td>\n",
       "    </tr>\n",
       "  </tbody>\n",
       "</table>\n",
       "<p>486 rows × 4 columns</p>\n",
       "</div>"
      ],
      "text/plain": [
       "                                                naslov  izdano  dolzina  \\\n",
       "0                                     The Hunger Games    2008      374   \n",
       "1            Harry Potter and the Order of the Phoenix    2004      870   \n",
       "2                               To Kill a Mockingbird     2006      324   \n",
       "3                                  Pride and Prejudice    2000      279   \n",
       "4                                             Twilight    2006      501   \n",
       "..                                                 ...     ...      ...   \n",
       "481   Demian: Die Geschichte von Emil Sinclairs Jugend    1996      194   \n",
       "482  Aristotle and Dante Discover the Secrets of th...    2012      359   \n",
       "483                                       The 5th Wave    2013      457   \n",
       "484                                      The Iron King    2010      363   \n",
       "485                                         Bloodlines    2011      421   \n",
       "\n",
       "       jezik  \n",
       "0    English  \n",
       "1    English  \n",
       "2    English  \n",
       "3    English  \n",
       "4    English  \n",
       "..       ...  \n",
       "481   German  \n",
       "482  English  \n",
       "483  English  \n",
       "484  English  \n",
       "485  English  \n",
       "\n",
       "[486 rows x 4 columns]"
      ]
     },
     "execution_count": 34,
     "metadata": {},
     "output_type": "execute_result"
    }
   ],
   "source": [
    "splosno"
   ]
  },
  {
   "cell_type": "markdown",
   "id": "earlier-russian",
   "metadata": {},
   "source": [
    "# Najpopularnejši žanri\n",
    "Najprej analizirajmo žanre. Zavedati se moramo, da lahko ena knjiga spada pod več žanrov, zato je zaradi enostavnosti popularnost knjige ocenjena glede na žanr, ki ga predlaga uporabnik oziroma bralec knjige. Vsak bralec lahko glasuje, v kateri žanr uvršča knjigo. Pogledali si bomo, kateri žanri so dobili največ glasov."
   ]
  },
  {
   "cell_type": "code",
   "execution_count": 35,
   "id": "experienced-kitchen",
   "metadata": {},
   "outputs": [
    {
     "name": "stdout",
     "output_type": "stream",
     "text": [
      "             žanri  število glasov\n",
      "0         Classics          993635\n",
      "1          Fiction          844599\n",
      "2          Fantasy          531756\n",
      "3      Young Adult          283772\n",
      "4  Science Fiction          123282\n",
      "5          Romance          108318\n"
     ]
    }
   ],
   "source": [
    "\n",
    "def zdruzi_glasove(seznam):\n",
    "    zanri = {}\n",
    "    for i in range(0,658):\n",
    "        if seznam.at[i, 'genre'] not in zanri:\n",
    "            count = int((seznam.at[i, 'genre_glasovi']).replace(\",\",\"\"))\n",
    "            for j in range(i + 1, 658):\n",
    "                if seznam.at[i, 'genre'] == seznam.at[j, 'genre']:\n",
    "                    count += int((seznam.at[j, 'genre_glasovi']).replace(\",\",\"\"))\n",
    "            zanri[seznam.at[i, 'genre']] = count\n",
    "    return zanri\n",
    "\n",
    "dict(sorted(zdruzi_glasove(genre).items(), key=lambda item: item[1]))\n",
    "my_dict = zdruzi_glasove(genre)\n",
    "sortitan = dict(sorted(my_dict.items(), key=lambda item: item[1], reverse=True))\n",
    "df = pd.DataFrame(list(sortitan.items()),columns = ['žanri','število glasov'])\n",
    "print(df.head(6))\n",
    "\n"
   ]
  },
  {
   "cell_type": "markdown",
   "id": "republican-brown",
   "metadata": {},
   "source": [
    "S tem smo prišli do odgovora na prvo vprašanje.\n",
    "\n",
    "Opazimo lahko, da najpopularnejše knjige spadajo pod klasike. Med njimi lahko najdemo: \"Prevzetnost in pristranost\", \"Živalska farma\",\"1984\" ...  Za njimi so fikcijske in fantazijske knjige. Sledijo jim še knjige za mlade odrasle, znanstveno fantastične knjige ter romantične knjige. "
   ]
  },
  {
   "cell_type": "markdown",
   "id": "labeled-material",
   "metadata": {},
   "source": [
    "# Analiza avtorjev\n",
    "\n",
    "Naše naslednje vprašanje je, kateri avtor je napisal največ uspešnic. Najprej bomo raziskali vse knjige, ki jih imamo na voljo. Nato bomo analizirali še najboljših sto knjig. \n"
   ]
  },
  {
   "cell_type": "code",
   "execution_count": 19,
   "id": "published-april",
   "metadata": {},
   "outputs": [
    {
     "data": {
      "text/html": [
       "<div>\n",
       "<style scoped>\n",
       "    .dataframe tbody tr th:only-of-type {\n",
       "        vertical-align: middle;\n",
       "    }\n",
       "\n",
       "    .dataframe tbody tr th {\n",
       "        vertical-align: top;\n",
       "    }\n",
       "\n",
       "    .dataframe thead th {\n",
       "        text-align: right;\n",
       "    }\n",
       "</style>\n",
       "<table border=\"1\" class=\"dataframe\">\n",
       "  <thead>\n",
       "    <tr style=\"text-align: right;\">\n",
       "      <th></th>\n",
       "      <th>naslov</th>\n",
       "    </tr>\n",
       "    <tr>\n",
       "      <th>autor</th>\n",
       "      <th></th>\n",
       "    </tr>\n",
       "  </thead>\n",
       "  <tbody>\n",
       "    <tr>\n",
       "      <th>Stephen King</th>\n",
       "      <td>62</td>\n",
       "    </tr>\n",
       "    <tr>\n",
       "      <th>Terry Pratchett</th>\n",
       "      <td>43</td>\n",
       "    </tr>\n",
       "    <tr>\n",
       "      <th>James Patterson</th>\n",
       "      <td>36</td>\n",
       "    </tr>\n",
       "    <tr>\n",
       "      <th>Rick Riordan</th>\n",
       "      <td>32</td>\n",
       "    </tr>\n",
       "    <tr>\n",
       "      <th>Meg Cabot</th>\n",
       "      <td>30</td>\n",
       "    </tr>\n",
       "  </tbody>\n",
       "</table>\n",
       "</div>"
      ],
      "text/plain": [
       "                 naslov\n",
       "autor                  \n",
       "Stephen King         62\n",
       "Terry Pratchett      43\n",
       "James Patterson      36\n",
       "Rick Riordan         32\n",
       "Meg Cabot            30"
      ]
     },
     "execution_count": 19,
     "metadata": {},
     "output_type": "execute_result"
    }
   ],
   "source": [
    "knjige.drop(columns=['glasovi','ocena', 'autorID']).groupby('autor').count().sort_values('naslov', ascending=False).head()\n"
   ]
  },
  {
   "cell_type": "markdown",
   "id": "common-particle",
   "metadata": {},
   "source": [
    "Največ uspešnic je napisal avtor Stephen King s 62 knjigami. Sledijo mu Terry Pratchett, James Patterson, Rick Riordan in Meg Cabot.\n",
    "\n",
    "Poglejmo še, kakšne rezultate dobimo z analizo najbolj uspešnih 100 knjig. Ali so podobni?"
   ]
  },
  {
   "cell_type": "code",
   "execution_count": 20,
   "id": "public-remove",
   "metadata": {
    "scrolled": true
   },
   "outputs": [
    {
     "data": {
      "text/html": [
       "<div>\n",
       "<style scoped>\n",
       "    .dataframe tbody tr th:only-of-type {\n",
       "        vertical-align: middle;\n",
       "    }\n",
       "\n",
       "    .dataframe tbody tr th {\n",
       "        vertical-align: top;\n",
       "    }\n",
       "\n",
       "    .dataframe thead th {\n",
       "        text-align: right;\n",
       "    }\n",
       "</style>\n",
       "<table border=\"1\" class=\"dataframe\">\n",
       "  <thead>\n",
       "    <tr style=\"text-align: right;\">\n",
       "      <th></th>\n",
       "      <th>naslov</th>\n",
       "    </tr>\n",
       "    <tr>\n",
       "      <th>autor</th>\n",
       "      <th></th>\n",
       "    </tr>\n",
       "  </thead>\n",
       "  <tbody>\n",
       "    <tr>\n",
       "      <th>J.K. Rowling</th>\n",
       "      <td>4</td>\n",
       "    </tr>\n",
       "    <tr>\n",
       "      <th>George Orwell</th>\n",
       "      <td>2</td>\n",
       "    </tr>\n",
       "    <tr>\n",
       "      <th>Khaled Hosseini</th>\n",
       "      <td>2</td>\n",
       "    </tr>\n",
       "    <tr>\n",
       "      <th>J.R.R. Tolkien</th>\n",
       "      <td>2</td>\n",
       "    </tr>\n",
       "    <tr>\n",
       "      <th>Fyodor Dostoyevsky</th>\n",
       "      <td>2</td>\n",
       "    </tr>\n",
       "    <tr>\n",
       "      <th>Charles Dickens</th>\n",
       "      <td>2</td>\n",
       "    </tr>\n",
       "    <tr>\n",
       "      <th>A.A. Milne</th>\n",
       "      <td>1</td>\n",
       "    </tr>\n",
       "  </tbody>\n",
       "</table>\n",
       "</div>"
      ],
      "text/plain": [
       "                    naslov\n",
       "autor                     \n",
       "J.K. Rowling             4\n",
       "George Orwell            2\n",
       "Khaled Hosseini          2\n",
       "J.R.R. Tolkien           2\n",
       "Fyodor Dostoyevsky       2\n",
       "Charles Dickens          2\n",
       "A.A. Milne               1"
      ]
     },
     "execution_count": 20,
     "metadata": {},
     "output_type": "execute_result"
    }
   ],
   "source": [
    "knjige.head(100).drop(columns=['glasovi','ocena', 'autorID']).groupby('autor').count().sort_values('naslov', ascending=False).head(7)"
   ]
  },
  {
   "cell_type": "markdown",
   "id": "gorgeous-complexity",
   "metadata": {},
   "source": [
    "Zanimivo je, da so rezultati popolnoma drugačni. Nobenega izmed avtorjev iz prve tabele ni v novi tabeli, kjer smo analizirali najbolj uspešnih 100 knjig. Avtorica z največ uspešnicami je tokrat J.K Rowling. \n",
    "\n",
    "Prišli smo do ugotovitve, da na zgornje vprašanje težko odgovorimo. Odgovor je odvisen od števila knjig, ki jih uporabljamo za analizo. Če gledamo najboljših 10.000 knjig, je najuspešnejši avtor Stephan King. Če pa pogledamo le prvih 100 knjig, je najuspešnejša avtorica J.K. Rowling.\n",
    "\n",
    "Posledica različnosti rezultatov bi lahko bila razlika med kvaliteto in kvantiteto. Stephen King je napisal veliko knjig, medtem ko jih je J.K.Rowling napisala manj, vendar so te (po mnenju bralcev) boljše."
   ]
  },
  {
   "cell_type": "markdown",
   "id": "altered-model",
   "metadata": {},
   "source": [
    "# Strogost ocen knjig\n",
    "\n",
    "Zanima nas, če ocene knjig ponazarjajo Gaussovo krivuljo. Zaradi subjektivnosti ocenjevanja lahko pričakujemo, da bodo ocene morda malo nadpovprečne."
   ]
  },
  {
   "cell_type": "code",
   "execution_count": 21,
   "id": "incoming-perspective",
   "metadata": {},
   "outputs": [
    {
     "data": {
      "text/plain": [
       "<AxesSubplot:title={'center':'Ocene knjig'}, xlabel='ocena'>"
      ]
     },
     "execution_count": 21,
     "metadata": {},
     "output_type": "execute_result"
    },
    {
     "data": {
      "image/png": "[encoded data removed]",
      "text/plain": [
       "<Figure size 1296x288 with 1 Axes>"
      ]
     },
     "metadata": {
      "needs_background": "light"
     },
     "output_type": "display_data"
    }
   ],
   "source": [
    "\n",
    "#zaokrožimo ocene za boljši pregled grafa\n",
    "knjige['ocena'] = knjige['ocena'].round(decimals = 1)\n",
    "\n",
    "knjige.groupby('ocena').size().plot.bar(color='C1', title='Ocene knjig', figsize=(18, 4))"
   ]
  },
  {
   "cell_type": "markdown",
   "id": "hollow-biography",
   "metadata": {},
   "source": [
    "Ker gledamo le ocene najbolje ocenjenih knjig je pričakovano, da najnižjih ocen ne vidimo. Vseeno pa lahko opazimo nekoliko \"premakaknjeno\" Gaussovo krivuljo. Le redko najdemo knjige z ocenami 3.0 ali 5.0, večina jih ima oceno 4.2. \n",
    "\n",
    "Nadalje se lahko še vprašamo, ali več glasov zberejo boljše ali slabše ocenjene knjige. Pričakujemo, da bodo več glasov zbrale bolje ocenjene knjige, saj so te popularnejše in posledično tudi predlagane več bralcem."
   ]
  },
  {
   "cell_type": "code",
   "execution_count": 22,
   "id": "wired-cuisine",
   "metadata": {},
   "outputs": [
    {
     "data": {
      "image/png": "[encoded data removed]",
      "text/plain": [
       "<Figure size 1440x320 with 1 Axes>"
      ]
     },
     "metadata": {
      "needs_background": "light"
     },
     "output_type": "display_data"
    }
   ],
   "source": [
    "#Spremenimo glasovi iz str v int\n",
    "knjige['glasovi'] = knjige['glasovi'].str.replace(',','')\n",
    "knjige['ocena'] = knjige['ocena'].round(decimals = 1)\n",
    "#print(knjige.drop(columns=['autor', 'autorID']))\n",
    "\n",
    "my_dict = {}\n",
    "for i in range(0, 9915):\n",
    "    if knjige.at[i, 'ocena'] not in my_dict:\n",
    "        count = int(knjige.at[i, 'glasovi'])\n",
    "        for j in range(i + 1, 9915):\n",
    "            if knjige.at[i, 'ocena'] == knjige.at[j, 'ocena']:\n",
    "                count += int(knjige.at[j, 'glasovi'])\n",
    "        my_dict[knjige.at[i, 'ocena']] = count    \n",
    "  \n",
    "import matplotlib.pylab as plt\n",
    "from matplotlib.pyplot import figure\n",
    "\n",
    "figure(figsize=(18, 4), dpi=80)\n",
    "\n",
    "myList = my_dict.items()\n",
    "myList = sorted(myList)\n",
    "x, y = zip(*myList)\n",
    "\n",
    "plt.plot(x, y)\n",
    "plt.xlabel('Ocena')\n",
    "plt.ylabel('Glasovi')\n",
    "plt.show()\n",
    "\n"
   ]
  },
  {
   "cell_type": "markdown",
   "id": "clear-cleaning",
   "metadata": {},
   "source": [
    "Odgovor na postavljeno vprašanje torej ni v skladu s pričakovanji. Največ glasov so zbrale knjige z ocenami 4.0. Ponovno opazimo neke vrste Gaussovo krivuljo okrog te vrednosti. \n",
    "\n",
    "Sklepamo lahko, da so rezultati posledica subjektivnosti ocenjevalcev. Tako so manj glasov dobile najboljše ocenjene knjige, saj jih ocenjujejo le tisti, ki so jim te knjige ljubše. Medtem ko so bolj znane knjige ocenjene povprečno, saj so predlagane večji populaciji. Ker ima vsak ocenjevalec svoj kriterij, te knjige dobijo nekaj nižjih in nekaj višjih ocen."
   ]
  },
  {
   "cell_type": "markdown",
   "id": "specialized-trainer",
   "metadata": {},
   "source": [
    "# Vpliv jezika na popularnost in oceno\n",
    "\n"
   ]
  },
  {
   "cell_type": "markdown",
   "id": "running-russell",
   "metadata": {},
   "source": [
    "Zanima nas, ali jezik v katerem je knjiga napisana vpliva na oceno in število glasov knjige. Pričakujemo lahko, da so najpopularnejše angleške knjige, saj je angleščina postala globalni jezik, ki se uporablja na skoraj vsakem koraku. Glede na prejšnje razdelke pričakujemo bodo morda bolje ocenjene manj popularne drugojezične knjige (francoske, nemške, italijanske,...).\n",
    "\n",
    "Najprej poglejmo popularnost."
   ]
  },
  {
   "cell_type": "code",
   "execution_count": 23,
   "id": "bearing-accused",
   "metadata": {},
   "outputs": [
    {
     "name": "stdout",
     "output_type": "stream",
     "text": [
      "English    480\n",
      "German       2\n",
      "Arabic       2\n",
      "French       1\n",
      "Persian      1\n",
      "Name: jezik, dtype: int64\n"
     ]
    }
   ],
   "source": [
    "print(splosno['jezik'].value_counts())\n"
   ]
  },
  {
   "cell_type": "markdown",
   "id": "cutting-grave",
   "metadata": {},
   "source": [
    "Tu naletimo na težavo, ker smo za analizo vzeli premajhno število knjig. Za vsak podatek o jeziku knjige smo potrebovali podatke iz druge spletne strani kot tiste s podatki angleških knjig. Ker nismo uspeli pridobiti dovolj spletnih strani, podrobnejše analize ni mogoče narediti. Zaključimo lahko torej, da med najboljše ocenjenimi knjigami močno prevladujejo angleške knjige. Upoštevati pa moramo, da je veliko knjig prevedenih iz drugih jezikov v angleščino, bralci pa vseeno mnogokrat ocenjujejo angleško verzijo, saj je ta najpopularnejša in jo bere največje število ljudi.\n",
    "Ker je neangleških knjig le 7, lahko na hitro preverimo njihove naslove, ocene, popularnost in podobne atribute.\n"
   ]
  },
  {
   "cell_type": "code",
   "execution_count": 24,
   "id": "comic-company",
   "metadata": {},
   "outputs": [
    {
     "data": {
      "text/html": [
       "<div>\n",
       "<style scoped>\n",
       "    .dataframe tbody tr th:only-of-type {\n",
       "        vertical-align: middle;\n",
       "    }\n",
       "\n",
       "    .dataframe tbody tr th {\n",
       "        vertical-align: top;\n",
       "    }\n",
       "\n",
       "    .dataframe thead th {\n",
       "        text-align: right;\n",
       "    }\n",
       "</style>\n",
       "<table border=\"1\" class=\"dataframe\">\n",
       "  <thead>\n",
       "    <tr style=\"text-align: right;\">\n",
       "      <th></th>\n",
       "      <th>naslov</th>\n",
       "      <th>autorID</th>\n",
       "      <th>autor</th>\n",
       "      <th>ocena</th>\n",
       "      <th>glasovi</th>\n",
       "      <th>izdano</th>\n",
       "      <th>dolzina</th>\n",
       "      <th>jezik</th>\n",
       "    </tr>\n",
       "  </thead>\n",
       "  <tbody>\n",
       "    <tr>\n",
       "      <th>131</th>\n",
       "      <td>Madame Bovary</td>\n",
       "      <td>1461</td>\n",
       "      <td>Gustave Flaubert</td>\n",
       "      <td>3.7</td>\n",
       "      <td>254811</td>\n",
       "      <td>2004</td>\n",
       "      <td>329</td>\n",
       "      <td>French</td>\n",
       "    </tr>\n",
       "    <tr>\n",
       "      <th>176</th>\n",
       "      <td>Thirteen Reasons Why</td>\n",
       "      <td>12157</td>\n",
       "      <td>Jay Asher</td>\n",
       "      <td>4.3</td>\n",
       "      <td>418382</td>\n",
       "      <td>2009</td>\n",
       "      <td>288</td>\n",
       "      <td>German</td>\n",
       "    </tr>\n",
       "    <tr>\n",
       "      <th>218</th>\n",
       "      <td>زندگی مه آلود پریا</td>\n",
       "      <td>18235662</td>\n",
       "      <td>سید مرتضی مصطفوی</td>\n",
       "      <td>3.9</td>\n",
       "      <td>949</td>\n",
       "      <td>2015</td>\n",
       "      <td>204</td>\n",
       "      <td>Persian</td>\n",
       "    </tr>\n",
       "    <tr>\n",
       "      <th>358</th>\n",
       "      <td>Demian: Die Geschichte von Emil Sinclairs Jugend</td>\n",
       "      <td>1113469</td>\n",
       "      <td>Hermann Hesse</td>\n",
       "      <td>4.1</td>\n",
       "      <td>74178</td>\n",
       "      <td>1996</td>\n",
       "      <td>194</td>\n",
       "      <td>German</td>\n",
       "    </tr>\n",
       "  </tbody>\n",
       "</table>\n",
       "</div>"
      ],
      "text/plain": [
       "                                               naslov   autorID  \\\n",
       "131                                     Madame Bovary      1461   \n",
       "176                              Thirteen Reasons Why     12157   \n",
       "218                                زندگی مه آلود پریا  18235662   \n",
       "358  Demian: Die Geschichte von Emil Sinclairs Jugend   1113469   \n",
       "\n",
       "                autor  ocena  glasovi  izdano  dolzina    jezik  \n",
       "131  Gustave Flaubert    3.7   254811    2004      329   French  \n",
       "176         Jay Asher    4.3  418382     2009      288   German  \n",
       "218  سید مرتضی مصطفوی    3.9      949    2015      204  Persian  \n",
       "358     Hermann Hesse    4.1    74178    1996      194   German  "
      ]
     },
     "execution_count": 24,
     "metadata": {},
     "output_type": "execute_result"
    }
   ],
   "source": [
    "skupno = pd.merge(knjige, splosno, on='naslov')\n",
    "skupno.loc[skupno['jezik'] != 'English']"
   ]
  },
  {
   "cell_type": "markdown",
   "id": "driving-cassette",
   "metadata": {},
   "source": [
    "Opazimo, da je najbolje ocenjena med njimi arabska knjiga anonimnega avtorja. Kot pričakovano pa je najpopularnejša francoska knjiga Gustava Flauberta: Madame Bovary."
   ]
  },
  {
   "cell_type": "markdown",
   "id": "conceptual-consistency",
   "metadata": {},
   "source": [
    "# Dolžina knjige in leto izdaje\n"
   ]
  },
  {
   "cell_type": "markdown",
   "id": "cathedral-cookbook",
   "metadata": {},
   "source": [
    "Glavno vprašanje tega razdelka bo, ali obstaja povezava med letom izdaje knjige in njeno dolžino. Pričakujemo, da bodo starejše knjige daljše, saj so bile knjige včasih morda malo bolj cenjene in so si ljudje vzeli več časa za branje knjig kot danes, ko se knjige lahko posluša tudi v audio obliki.\n",
    "\n",
    "Za začetek še enkrat poglejmo tabelo."
   ]
  },
  {
   "cell_type": "code",
   "execution_count": 25,
   "id": "vital-favorite",
   "metadata": {},
   "outputs": [
    {
     "data": {
      "text/html": [
       "<div>\n",
       "<style scoped>\n",
       "    .dataframe tbody tr th:only-of-type {\n",
       "        vertical-align: middle;\n",
       "    }\n",
       "\n",
       "    .dataframe tbody tr th {\n",
       "        vertical-align: top;\n",
       "    }\n",
       "\n",
       "    .dataframe thead th {\n",
       "        text-align: right;\n",
       "    }\n",
       "</style>\n",
       "<table border=\"1\" class=\"dataframe\">\n",
       "  <thead>\n",
       "    <tr style=\"text-align: right;\">\n",
       "      <th></th>\n",
       "      <th>naslov</th>\n",
       "      <th>izdano</th>\n",
       "      <th>dolzina</th>\n",
       "      <th>jezik</th>\n",
       "    </tr>\n",
       "  </thead>\n",
       "  <tbody>\n",
       "    <tr>\n",
       "      <th>0</th>\n",
       "      <td>The Hunger Games</td>\n",
       "      <td>2008</td>\n",
       "      <td>374</td>\n",
       "      <td>English</td>\n",
       "    </tr>\n",
       "    <tr>\n",
       "      <th>1</th>\n",
       "      <td>Harry Potter and the Order of the Phoenix</td>\n",
       "      <td>2004</td>\n",
       "      <td>870</td>\n",
       "      <td>English</td>\n",
       "    </tr>\n",
       "    <tr>\n",
       "      <th>2</th>\n",
       "      <td>To Kill a Mockingbird</td>\n",
       "      <td>2006</td>\n",
       "      <td>324</td>\n",
       "      <td>English</td>\n",
       "    </tr>\n",
       "    <tr>\n",
       "      <th>3</th>\n",
       "      <td>Pride and Prejudice</td>\n",
       "      <td>2000</td>\n",
       "      <td>279</td>\n",
       "      <td>English</td>\n",
       "    </tr>\n",
       "    <tr>\n",
       "      <th>4</th>\n",
       "      <td>Twilight</td>\n",
       "      <td>2006</td>\n",
       "      <td>501</td>\n",
       "      <td>English</td>\n",
       "    </tr>\n",
       "    <tr>\n",
       "      <th>5</th>\n",
       "      <td>The Book Thief</td>\n",
       "      <td>2006</td>\n",
       "      <td>552</td>\n",
       "      <td>English</td>\n",
       "    </tr>\n",
       "    <tr>\n",
       "      <th>6</th>\n",
       "      <td>Animal Farm: A Fairy Story</td>\n",
       "      <td>1996</td>\n",
       "      <td>141</td>\n",
       "      <td>English</td>\n",
       "    </tr>\n",
       "    <tr>\n",
       "      <th>7</th>\n",
       "      <td>The Chronicles of Narnia</td>\n",
       "      <td>2002</td>\n",
       "      <td>767</td>\n",
       "      <td>English</td>\n",
       "    </tr>\n",
       "    <tr>\n",
       "      <th>8</th>\n",
       "      <td>The Fault in Our Stars</td>\n",
       "      <td>2012</td>\n",
       "      <td>313</td>\n",
       "      <td>English</td>\n",
       "    </tr>\n",
       "    <tr>\n",
       "      <th>9</th>\n",
       "      <td>Gone with the Wind</td>\n",
       "      <td>1999</td>\n",
       "      <td>1037</td>\n",
       "      <td>English</td>\n",
       "    </tr>\n",
       "  </tbody>\n",
       "</table>\n",
       "</div>"
      ],
      "text/plain": [
       "                                      naslov  izdano  dolzina    jezik\n",
       "0                           The Hunger Games    2008      374  English\n",
       "1  Harry Potter and the Order of the Phoenix    2004      870  English\n",
       "2                     To Kill a Mockingbird     2006      324  English\n",
       "3                        Pride and Prejudice    2000      279  English\n",
       "4                                   Twilight    2006      501  English\n",
       "5                             The Book Thief    2006      552  English\n",
       "6                 Animal Farm: A Fairy Story    1996      141  English\n",
       "7                   The Chronicles of Narnia    2002      767  English\n",
       "8                     The Fault in Our Stars    2012      313  English\n",
       "9                         Gone with the Wind    1999     1037  English"
      ]
     },
     "execution_count": 25,
     "metadata": {},
     "output_type": "execute_result"
    }
   ],
   "source": [
    "splosno.head(10)"
   ]
  },
  {
   "cell_type": "markdown",
   "id": "legitimate-package",
   "metadata": {},
   "source": [
    "Na prvi pogled se nam zdi, da dolžina ne vpliva na ocene, saj so med desetimi najbolje ocenjenimi knjigami krajše in daljše knjige.\n",
    "Najstarejša knjiga je iz leta 1996. Predvidevamo lahko, da bodo popularnejše novejše knjige. \n",
    "Najprej si oglejmo ocene knjig glede na leto izdaje in dolžino."
   ]
  },
  {
   "cell_type": "code",
   "execution_count": 26,
   "id": "loaded-parallel",
   "metadata": {},
   "outputs": [
    {
     "name": "stdout",
     "output_type": "stream",
     "text": [
      "                                        naslov  ocena  izdano  dolzina\n",
      "0                             The Hunger Games    4.3    2008      374\n",
      "1    Harry Potter and the Order of the Phoenix    4.5    2004      870\n",
      "2                          Pride and Prejudice    4.3    2000      279\n",
      "3                                     Twilight    3.6    2006      501\n",
      "4                               The Book Thief    4.4    2006      552\n",
      "..                                         ...    ...     ...      ...\n",
      "360                               The 5th Wave    4.0    2013      457\n",
      "361                              The Iron King    3.9    2010      363\n",
      "362                                 Bloodlines    4.2    2011      421\n",
      "363                        The Tell-Tale Heart    4.2    2004      448\n",
      "364                            Northern Lights    4.0    1996      399\n",
      "\n",
      "[365 rows x 4 columns]\n",
      "122 187 56\n"
     ]
    }
   ],
   "source": [
    "skupno = pd.merge(knjige, splosno, on='naslov').drop(columns=['autor', 'autorID', 'jezik', 'glasovi'])\n",
    "skupno['ocena'] = skupno['ocena'].round(decimals = 1)\n",
    "print(skupno)\n",
    "### izračun povprečne ocene knjig podobnih dolžin\n",
    "### podobne dolžine bodo : 0 -300 strani, 300 - 600 strani, 600+ strani\n",
    "kratke = []\n",
    "srednje = []\n",
    "dolge = []\n",
    "for i in range(skupno['dolzina'].size):\n",
    "    if skupno['dolzina'][i] < 300:\n",
    "        kratke.append(skupno['naslov'][i])\n",
    "    elif skupno['dolzina'][i] >= 300 and skupno['dolzina'][i] < 600:\n",
    "        srednje.append(skupno['naslov'][i])\n",
    "    else:\n",
    "        dolge.append(skupno['naslov'][i])\n",
    "print(len(kratke), len(srednje), len(dolge))"
   ]
  },
  {
   "cell_type": "markdown",
   "id": "synthetic-arrow",
   "metadata": {},
   "source": [
    "Med najboljšimi 363 knjigami je največ srednje dolgih, najmanj pa je takih, ki so daljše od 600 strani. Rezultati so sicer pričakovani, vendar bi bilo med bolje ocenjenimi knjigami lahko tudi nekoliko več takih, ki so krajše od 300 strani. \n",
    "\n",
    "Ugotovili smo že, da so najbolje ocenjene knjige dolge med 300 in 600 strani. Lahko pa si še pogledamo ali mednje spadajo tudi knjige, ki so prejele največ glasov. So to torej najbolj brane oziroma popularne knjige med bralci?\n"
   ]
  },
  {
   "cell_type": "code",
   "execution_count": 27,
   "id": "considerable-import",
   "metadata": {},
   "outputs": [
    {
     "name": "stdout",
     "output_type": "stream",
     "text": [
      "                                        naslov  glasovi  izdano  dolzina\n",
      "0                             The Hunger Games  6393487    2008      374\n",
      "1    Harry Potter and the Order of the Phoenix  2516497    2004      870\n",
      "2                          Pride and Prejudice  3008275    2000      279\n",
      "3                                     Twilight  4977934    2006      501\n",
      "4                               The Book Thief  1840148    2006      552\n",
      "..                                         ...      ...     ...      ...\n",
      "360                               The 5th Wave   389768    2013      457\n",
      "361                              The Iron King   193384    2010      363\n",
      "362                                 Bloodlines   168090    2011      421\n",
      "363                        The Tell-Tale Heart    56181    2004      448\n",
      "364                            Northern Lights    40058    1996      399\n",
      "\n",
      "[365 rows x 4 columns]\n"
     ]
    }
   ],
   "source": [
    "skupno = pd.merge(knjige, splosno, on='naslov').drop(columns=['autor', 'autorID', 'jezik', 'ocena'])\n",
    "###Ker je glasovi zapisan z ',' ga spremenimo v int\n",
    "skupno['glasovi'] = skupno['glasovi'].str.replace(',', '', regex=True)\n",
    "print(skupno)"
   ]
  },
  {
   "cell_type": "code",
   "execution_count": 28,
   "id": "light-ethiopia",
   "metadata": {},
   "outputs": [
    {
     "name": "stdout",
     "output_type": "stream",
     "text": [
      "     Kratke    Srednje     Dolge\n",
      "0  69812735  132694039  31581429\n"
     ]
    }
   ],
   "source": [
    "count_kratke = 0\n",
    "count_srednje = 0\n",
    "count_dolge = 0\n",
    "for i in range(skupno['glasovi'].size):\n",
    "    if skupno['dolzina'][i] < 300:\n",
    "        count_kratke += int(skupno['glasovi'][i])\n",
    "    elif skupno['dolzina'][i] >= 300 and skupno['dolzina'][i] < 600:\n",
    "        count_srednje += int(skupno['glasovi'][i])\n",
    "    else:\n",
    "        count_dolge += int(skupno['glasovi'][i])\n",
    "dict_ = {\"Kratke\" : count_kratke, \"Srednje\" : count_srednje, \"Dolge\" : count_dolge}\n",
    "df = pd.DataFrame(dict_, index=[0])\n",
    "print(df)\n",
    "#p"
   ]
  },
  {
   "cell_type": "markdown",
   "id": "wrong-parameter",
   "metadata": {},
   "source": [
    "Opazimo, da so ugotovitve podobne kot pri prejšnjem vprašanju. Največ knjig je srednje dolgih, manj pa je kratkih in dolgih knjig oziroma knjig z zelo veliko ali zelo malo stranmi. "
   ]
  },
  {
   "cell_type": "code",
   "execution_count": 29,
   "id": "impossible-cheat",
   "metadata": {},
   "outputs": [
    {
     "name": "stdout",
     "output_type": "stream",
     "text": [
      "   Pred 1990  Pred 1980  Pred 2000   Po 2010  Pred 2010\n",
      "0    5902691    6288553   28615267  51003460  142278232\n"
     ]
    }
   ],
   "source": [
    "\n",
    "\n",
    "#Pred 1980, med 1980 in 1990, med 1990 in 2000, med 2000 in 2010, po 2010\n",
    "pred_1980 = 0\n",
    "pred_1990 = 0\n",
    "pred_2000 = 0\n",
    "pred_2010 = 0\n",
    "po_2010 = 0\n",
    "for i in range(skupno['izdano'].size):\n",
    "    if int(skupno['izdano'][i]) < 1980:\n",
    "        pred_1980 += int(skupno['glasovi'][i])\n",
    "    elif int(skupno['izdano'][i]) >= 1980 and int(skupno['izdano'][i]) < 1990:\n",
    "        pred_1990 += int(skupno['glasovi'][i])\n",
    "    elif int(skupno['izdano'][i]) >= 1990 and int(skupno['izdano'][i]) < 2000:\n",
    "        pred_2000 += int(skupno['glasovi'][i])\n",
    "    elif int(skupno['izdano'][i]) >= 2000 and int(skupno['izdano'][i]) < 2010:\n",
    "        pred_2010 += int(skupno['glasovi'][i])\n",
    "    else:\n",
    "        po_2010 += int(skupno['glasovi'][i])\n",
    "\n",
    "leta_izdaje = {\"Pred 1980\" : pred_1980, \"Pred 1990\" : pred_1990, \"Pred 2000\" : pred_2000, \"Pred 2010\" : pred_2010, \"Po 2010\" : po_2010}\n",
    "##Sortiramo slovar\n",
    "sorted_values = sorted(leta_izdaje.values()) # Sort the values\n",
    "sorted_dict = {}\n",
    "\n",
    "for i in sorted_values:\n",
    "    for k in leta_izdaje.keys():\n",
    "        if leta_izdaje[k] == i:\n",
    "            sorted_dict[k] = leta_izdaje[k]\n",
    "            break\n",
    "\n",
    "\n",
    "df = pd.DataFrame(sorted_dict, index=[0])\n",
    "print(df)\n"
   ]
  },
  {
   "cell_type": "markdown",
   "id": "scientific-baptist",
   "metadata": {},
   "source": [
    "Ugotovimo, da popularnost knjig ne narašča(oziroma ne pada) strogo po letih izdaje. Največ glasov so zbrale knjige, ki so bile napisane med 2000 in 2010, torej novodobne knjige. Najmanj glasov pa so izbrale knjige, ki so bile napisane med 1980 in 1990. Za podrobnejšo analizo, bi morali zmanjšati razmik med leti. Ker so števila težko berljiva in velika, si za boljšo predstavo med razlikami v vrednostih narišimo še graf."
   ]
  },
  {
   "cell_type": "code",
   "execution_count": 30,
   "id": "disturbed-sample",
   "metadata": {},
   "outputs": [
    {
     "data": {
      "image/png": "[encoded data removed]",
      "text/plain": [
       "<Figure size 432x288 with 1 Axes>"
      ]
     },
     "metadata": {
      "needs_background": "light"
     },
     "output_type": "display_data"
    }
   ],
   "source": [
    "plt.bar(range(len(sorted_dict)), list(sorted_dict.values()), align='center')\n",
    "plt.xticks(range(len(sorted_dict)), list(sorted_dict.keys()))\n",
    "# # for python 2.x:\n",
    "# plt.bar(range(len(D)), D.values(), align='center')  # python 2.x\n",
    "# plt.xticks(range(len(D)), D.keys())  # in python 2.x\n",
    "\n",
    "plt.show()"
   ]
  },
  {
   "cell_type": "markdown",
   "id": "monthly-witness",
   "metadata": {},
   "source": [
    "Tu zares opazimo razliko med števili. Močno prevladujejo knjige, ki so bile izdane med leti 2000 in 2010. Prišli smo do ugotovitve, da je popularnost knjig počasi naraščala do leta 2000, potem pa je med letoma 2000 in 2010 dosegla svoj maksimum. Po letu 2010 je začela popularnost knjig upadati. Temu lahko morda pripišemo razvoj različnih tehnologij, saj se danes knjige lahko bere tudi na tablici s pomočjo različnih aplikacij (npr. kindle,..), mnogo knjig je tudi v prostem dostopu na internetu, mogoče pa je knjige kupiti tudi v audio obliki, torej zvočnega posnetka besedila. "
   ]
  }
 ],
 "metadata": {
  "kernelspec": {
   "display_name": "Python 3",
   "language": "python",
   "name": "python3"
  },
  "language_info": {
   "codemirror_mode": {
    "name": "ipython",
    "version": 3
   },
   "file_extension": ".py",
   "mimetype": "text/x-python",
   "name": "python",
   "nbconvert_exporter": "python",
   "pygments_lexer": "ipython3",
   "version": "3.9.0"
  }
 },
 "nbformat": 4,
 "nbformat_minor": 5
}
